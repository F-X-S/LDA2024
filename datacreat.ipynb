{
 "cells": [
  {
   "cell_type": "code",
   "execution_count": 2,
   "metadata": {},
   "outputs": [],
   "source": [
    "import os\n",
    "import pandas as pd\n",
    "\n",
    "# 指定Excel文件所在的文件夹路径\n",
    "folder_path = 'C:/Users/F7910/Desktop/LDA_database/data'\n",
    "\n",
    "# 获取文件夹中所有Excel文件的文件名\n",
    "excel_files = [file for file in os.listdir(folder_path) if file.endswith('.xlsx') or file.endswith('.xls')]\n",
    "\n",
    "# 创建一个空的DataFrame，用于存储所有Excel数据\n",
    "all_data = pd.DataFrame()\n",
    "\n",
    "# 循环遍历每个Excel文件并读取数据\n",
    "for file in excel_files:\n",
    "    # 构建完整的文件路径\n",
    "    file_path = os.path.join(folder_path, file)\n",
    "    \n",
    "    # 使用pandas的read_excel函数读取Excel文件并将其转换为DataFrame\n",
    "    excel_data = pd.read_excel(file_path)\n",
    "    \n",
    "    # 将当前Excel文件的数据追加到总体数据中\n",
    "    all_data = pd.concat([all_data, excel_data], ignore_index=True)\n"
   ]
  }
 ],
 "metadata": {
  "kernelspec": {
   "display_name": "Python 3",
   "language": "python",
   "name": "python3"
  },
  "language_info": {
   "codemirror_mode": {
    "name": "ipython",
    "version": 3
   },
   "file_extension": ".py",
   "mimetype": "text/x-python",
   "name": "python",
   "nbconvert_exporter": "python",
   "pygments_lexer": "ipython3",
   "version": "3.10.9"
  }
 },
 "nbformat": 4,
 "nbformat_minor": 2
}
